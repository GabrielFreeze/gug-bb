{
 "cells": [
  {
   "cell_type": "code",
   "execution_count": 84,
   "id": "8f97e133-abd3-4019-b80d-55f57b1adea1",
   "metadata": {},
   "outputs": [],
   "source": [
    "import os\n",
    "from typing import List\n",
    "import random\n",
    "import string\n",
    "import numpy as np\n",
    "import pandas as pd\n",
    "\n",
    "GRID_SIZE=5\n",
    "NUM_GRIDS=10\n",
    "GRID_FOLDER=os.path.join('..',\"grids\")\n"
   ]
  },
  {
   "cell_type": "code",
   "execution_count": 94,
   "id": "1f1571b9-c69f-4c04-9c8b-bf4ea96c5c0a",
   "metadata": {},
   "outputs": [],
   "source": [
    "def write_grids(subsets:List[List]):\n",
    "\n",
    "    for i,subset in enumerate(subsets):\n",
    "        csv_file = \"\".join([element + (',' if (j+1)%GRID_SIZE else '\\n')\n",
    "                            for j,element in enumerate(subset)])[:-1]\n",
    "        #                           Last character is \\n   ^^^^^\n",
    "        \n",
    "        with open(os.path.join(GRID_FOLDER,f\"{i+1}.csv\"),\"w\") as f:\n",
    "            f.write(csv_file)\n",
    "\n",
    "    return True\n",
    "\n",
    "def load_grids() -> List[List]:\n",
    "    \n",
    "    grids = [None]*NUM_GRIDS\n",
    "    \n",
    "    for i in range(NUM_GRIDS):\n",
    "        with open(os.path.join(GRID_FOLDER,f\"{i+1}.csv\"),\"r\") as f:\n",
    "            csv_file = f.read()\n",
    "\n",
    "        grid = csv_file.replace('\\n',',').split(',')\n",
    "        grids[i] = grid\n",
    "\n",
    "    return grids"
   ]
  },
  {
   "cell_type": "code",
   "execution_count": 97,
   "id": "739a1b5b-798c-4d2e-b830-7412768f716c",
   "metadata": {},
   "outputs": [
    {
     "data": {
      "text/plain": [
       "True"
      ]
     },
     "execution_count": 97,
     "metadata": {},
     "output_type": "execute_result"
    }
   ],
   "source": [
    "element_set = list(string.ascii_letters)\n",
    "subsets = [random.sample(element_set,GRID_SIZE**2) for _ in range(NUM_GRIDS)]\n",
    "write_grids(subsets)\n",
    "# all_grids = load_grids()"
   ]
  },
  {
   "cell_type": "code",
   "execution_count": null,
   "id": "74c7e68d-82d3-48cc-86bb-86e1c0d3918f",
   "metadata": {},
   "outputs": [],
   "source": [
    "def valid_vers(valid_set, grid:list):\n",
    "    pass\n",
    "def valid_kaxxa(valid_set, grid:list):\n",
    "    pass"
   ]
  }
 ],
 "metadata": {
  "kernelspec": {
   "display_name": "Python 3 (ipykernel)",
   "language": "python",
   "name": "python3"
  },
  "language_info": {
   "codemirror_mode": {
    "name": "ipython",
    "version": 3
   },
   "file_extension": ".py",
   "mimetype": "text/x-python",
   "name": "python",
   "nbconvert_exporter": "python",
   "pygments_lexer": "ipython3",
   "version": "3.9.19"
  }
 },
 "nbformat": 4,
 "nbformat_minor": 5
}
