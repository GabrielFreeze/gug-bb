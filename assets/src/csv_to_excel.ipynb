{
 "cells": [
  {
   "cell_type": "code",
   "execution_count": 1,
   "id": "8f97e133-abd3-4019-b80d-55f57b1adea1",
   "metadata": {},
   "outputs": [],
   "source": [
    "import os\n",
    "import openpyxl\n",
    "import pandas as pd\n",
    "from typing import List\n",
    "from tqdm import tqdm\n",
    "\n",
    "GRID_W=5\n",
    "GRID_H=3"
   ]
  },
  {
   "cell_type": "code",
   "execution_count": 25,
   "id": "0167f257",
   "metadata": {},
   "outputs": [],
   "source": [
    "def load_grids(path:str,n_grids:int=290) -> List[List]:\n",
    "\n",
    "    grids = []\n",
    "    \n",
    "\n",
    "    for i in range(n_grids):\n",
    "\n",
    "        with open(os.path.join(path,f'{i}.csv'),\"r\") as f:\n",
    "            csv_file = f.read()\n",
    "\n",
    "        grid = csv_file.replace('\\n',';').split(';')\n",
    "        grids.append(\n",
    "            [grid[i:i + GRID_W] for i in range(0, len(grid), GRID_W)]\n",
    "        )\n",
    "\n",
    "    return grids\n",
    "\n",
    "apply_format = lambda s: s.replace('[','\\n[').replace('\\\\','')\n",
    "\n",
    "def fill_template(output_path,data,index, overwrite=False):\n",
    "\n",
    "    workbook = openpyxl.load_workbook(os.path.join(\"..\",\"my_template.xlsx\"))\n",
    "    sheet = workbook.active\n",
    "\n",
    "    # Fill the cells with data\n",
    "    for cell, value in data.items():\n",
    "        sheet[cell] = apply_format(value)\n",
    "\n",
    "    sheet['C1'] = index\n",
    "    sheet['H1'] = index\n",
    "\n",
    "    if not overwrite and os.path.exists(output_path):\n",
    "        raise PermissionError(f\"{output_path} already exists. Set overwrite=True to overwrite.\")\n",
    "\n",
    "    workbook.save(output_path)"
   ]
  },
  {
   "cell_type": "markdown",
   "id": "d74123a1",
   "metadata": {},
   "source": [
    "### Add grid to template"
   ]
  },
  {
   "cell_type": "code",
   "execution_count": null,
   "id": "6afbc5a5",
   "metadata": {},
   "outputs": [],
   "source": [
    "indices = [\n",
    "    (0,0,'B4'),(0,1,'D4'),(0,2,'F4'),(0,3,'H4'),(0,4,'J4'),\n",
    "    (1,0,'B5'),(1,1,'D5'),(1,2,'F5'),(1,3,'H5'),(1,4,'J5'),\n",
    "    (2,0,'B6'),(2,1,'D6'),(2,2,'F6'),(2,3,'H6'),(2,4,'J6'),\n",
    "]\n",
    "\n",
    "for n in [1,2]:\n",
    "    grids = load_grids(os.path.join(\"assets\",\"grids\",f\"grids_{n}\"))\n",
    "    for idx,grid in tqdm(enumerate(grids)):\n",
    "\n",
    "        fill_template(\n",
    "            output_path = os.path.join('assets','sheets',f'sheets_{n}',f'{idx}.xlsx'),\n",
    "            data = {cell:grid[i][j] for i,j,cell in indices},\n",
    "            index=f\"{str(idx).zfill(3)}{['A','B'][n-1]}\", overwrite=True\n",
    "        )\n",
    "    \n"
   ]
  }
 ],
 "metadata": {
  "kernelspec": {
   "display_name": "Python 3 (ipykernel)",
   "language": "python",
   "name": "python3"
  },
  "language_info": {
   "codemirror_mode": {
    "name": "ipython",
    "version": 3
   },
   "file_extension": ".py",
   "mimetype": "text/x-python",
   "name": "python",
   "nbconvert_exporter": "python",
   "pygments_lexer": "ipython3",
   "version": "3.9.19"
  }
 },
 "nbformat": 4,
 "nbformat_minor": 5
}
