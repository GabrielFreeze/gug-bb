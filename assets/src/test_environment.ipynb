{
 "cells": [
  {
   "cell_type": "code",
   "execution_count": 27,
   "id": "8f97e133-abd3-4019-b80d-55f57b1adea1",
   "metadata": {},
   "outputs": [],
   "source": [
    "import os\n",
    "from typing import List\n",
    "import random\n",
    "import numpy as np\n",
    "import pandas as pd\n",
    "import seaborn as sns\n",
    "from hashlib import md5\n",
    "import matplotlib.pyplot  as plt\n",
    "\n",
    "\n",
    "GRID_W=5\n",
    "GRID_H=3\n",
    "NUM_GRIDS=200"
   ]
  },
  {
   "cell_type": "code",
   "execution_count": 28,
   "id": "1f1571b9-c69f-4c04-9c8b-bf4ea96c5c0a",
   "metadata": {},
   "outputs": [],
   "source": [
    "def write_grids(subsets:List[List],path:str):\n",
    "\n",
    "    #Ensure directory exists\n",
    "    if not os.path.isdir(path):\n",
    "        os.mkdir(path)\n",
    "\n",
    "    grids = [None]*len(subsets)\n",
    "\n",
    "    #Format every subset in a grid format and save as CSV\n",
    "    for i,subset in enumerate(subsets):\n",
    "        csv_file = \"\".join([element + (';' if (j+1)%GRID_W else '\\n')\n",
    "                            for j,element in enumerate(subset)])[:-1]\n",
    "        #                               Last character is \\n   ^^^^^\n",
    "        \n",
    "        with open(os.path.join(path,f\"{i}.csv\"),\"w\") as f:\n",
    "            f.write(csv_file)\n",
    "        \n",
    "        grid = csv_file.replace('\\n',';').split(';')\n",
    "        grids[i] = [grid[i:i + GRID_W] for i in range(0, len(grid), GRID_W)]\n",
    "\n",
    "    return grids\n",
    "\n",
    "def load_grids(path:str,n_grids:int) -> List[List]:\n",
    "\n",
    "    grids = [None]*n_grids\n",
    "    \n",
    "    for i in range(n_grids):\n",
    "        with open(os.path.join(path,f\"{i}.csv\"),\"r\") as f:\n",
    "            csv_file = f.read()\n",
    "\n",
    "        grid = csv_file.replace('\\n',';').split(';')\n",
    "        grids[i] = [grid[i:i + GRID_W] for i in range(0, len(grid), GRID_W)]\n",
    "\n",
    "    return grids\n",
    "\n",
    "#Returns the index of the song which the sequence will win on.\n",
    "def win_on(sequence:list, song2idx):\n",
    "    return max([song2idx[song] for song in sequence])    "
   ]
  },
  {
   "cell_type": "code",
   "execution_count": 29,
   "id": "db7be18f",
   "metadata": {},
   "outputs": [],
   "source": [
    "round_n = 1\n",
    "overwrite = False\n",
    "\n",
    "def prepare_df(round_n:int,n_grids:int,\n",
    "               overwrite:bool=False,\n",
    "               n_songs=100):\n",
    "\n",
    "    #Retrieve songs\n",
    "    with open(os.path.join('..','songs',f'songs_{round_n}.txt'),'r',encoding='utf-8') as f:\n",
    "        songs = [song[:-1] for song in f.readlines()][:n_songs]\n",
    "\n",
    "    #Maps a song to its position within the playlist\n",
    "    song2idx = {song:i for i,song in enumerate(songs)}\n",
    "\n",
    "    #Path of grids in local disk\n",
    "    grid_path = os.path.join(\"..\",\"grids\",f\"grids_{round_n}\")\n",
    "\n",
    "    #Writing/Loading grids\n",
    "    if overwrite:    \n",
    "        \n",
    "        #Create the grids by randomly sampling from the playlist\n",
    "        grids = [random.sample(songs,GRID_W*GRID_H) for _ in range(n_grids)]\n",
    "\n",
    "        print(f\"[WARNING]: Overwriting grids at {os.path.join(os.getcwd(),grid_path)}\",end='\\r')\n",
    "        for f in os.listdir(grid_path): os.remove(os.path.join(grid_path,f))\n",
    "        grids = write_grids(grids,grid_path)\n",
    "        \n",
    "    else:\n",
    "        grids = load_grids(grid_path,n_grids)\n",
    "    \n",
    "\n",
    "    #Contains the winning song index for GRID_H verses for every grid.\n",
    "    data = [[win_on(vers,song2idx) for vers in grid] for grid in grids]\n",
    "\n",
    "    #Adding the winning index for any vers\n",
    "    data = [v+[min(v)] for v in data]\n",
    "\n",
    "    #Adding the winning index for the whole grid\n",
    "    #NOTE: When all GRID_H verses are won, the grid is won\n",
    "    data = [v+[max(v)] for v in data]\n",
    "\n",
    "\n",
    "    df = pd.DataFrame(\n",
    "        data=data,\n",
    "        columns=[f\"Vers {i+1}\" for i in range(GRID_H)]+[\"Vers\",\"Kaxxa\"]\n",
    "    )\n",
    "\n",
    "    return df\n"
   ]
  },
  {
   "cell_type": "code",
   "execution_count": 30,
   "id": "fe11e215",
   "metadata": {},
   "outputs": [
    {
     "name": "stdout",
     "output_type": "stream",
     "text": [
      "[WARNING]: Overwriting grids at c:\\Users\\Gabriel_Freeze\\Desktop\\gug-bb\\assets\\src\\..\\grids\\grids_2\r"
     ]
    }
   ],
   "source": [
    "for i in [1,2]:\n",
    "    if not os.path.isdir(p:=os.path.join(\"..\",\"grids\",f\"grids_{i}\")):\n",
    "        os.makedirs(p)\n",
    "\n",
    "round_n = 2\n",
    "df = prepare_df(round_n,n_grids=290, overwrite=True)\n",
    "df.to_csv(os.path.join(\"..\",\"grids\",f\"grids_{round_n}\",\"data.csv\"), index=False)"
   ]
  },
  {
   "cell_type": "code",
   "execution_count": 31,
   "id": "058c427c",
   "metadata": {},
   "outputs": [
    {
     "data": {
      "text/html": [
       "<div>\n",
       "<style scoped>\n",
       "    .dataframe tbody tr th:only-of-type {\n",
       "        vertical-align: middle;\n",
       "    }\n",
       "\n",
       "    .dataframe tbody tr th {\n",
       "        vertical-align: top;\n",
       "    }\n",
       "\n",
       "    .dataframe thead th {\n",
       "        text-align: right;\n",
       "    }\n",
       "</style>\n",
       "<table border=\"1\" class=\"dataframe\">\n",
       "  <thead>\n",
       "    <tr style=\"text-align: right;\">\n",
       "      <th></th>\n",
       "      <th>Vers 1</th>\n",
       "      <th>Vers 2</th>\n",
       "      <th>Vers 3</th>\n",
       "      <th>Vers</th>\n",
       "      <th>Kaxxa</th>\n",
       "    </tr>\n",
       "  </thead>\n",
       "  <tbody>\n",
       "    <tr>\n",
       "      <th>0</th>\n",
       "      <td>64</td>\n",
       "      <td>67</td>\n",
       "      <td>51</td>\n",
       "      <td>51</td>\n",
       "      <td>67</td>\n",
       "    </tr>\n",
       "    <tr>\n",
       "      <th>1</th>\n",
       "      <td>59</td>\n",
       "      <td>54</td>\n",
       "      <td>63</td>\n",
       "      <td>54</td>\n",
       "      <td>63</td>\n",
       "    </tr>\n",
       "    <tr>\n",
       "      <th>2</th>\n",
       "      <td>56</td>\n",
       "      <td>54</td>\n",
       "      <td>46</td>\n",
       "      <td>46</td>\n",
       "      <td>56</td>\n",
       "    </tr>\n",
       "    <tr>\n",
       "      <th>3</th>\n",
       "      <td>62</td>\n",
       "      <td>67</td>\n",
       "      <td>59</td>\n",
       "      <td>59</td>\n",
       "      <td>67</td>\n",
       "    </tr>\n",
       "    <tr>\n",
       "      <th>4</th>\n",
       "      <td>61</td>\n",
       "      <td>66</td>\n",
       "      <td>62</td>\n",
       "      <td>61</td>\n",
       "      <td>66</td>\n",
       "    </tr>\n",
       "    <tr>\n",
       "      <th>...</th>\n",
       "      <td>...</td>\n",
       "      <td>...</td>\n",
       "      <td>...</td>\n",
       "      <td>...</td>\n",
       "      <td>...</td>\n",
       "    </tr>\n",
       "    <tr>\n",
       "      <th>285</th>\n",
       "      <td>64</td>\n",
       "      <td>66</td>\n",
       "      <td>23</td>\n",
       "      <td>23</td>\n",
       "      <td>66</td>\n",
       "    </tr>\n",
       "    <tr>\n",
       "      <th>286</th>\n",
       "      <td>65</td>\n",
       "      <td>62</td>\n",
       "      <td>67</td>\n",
       "      <td>62</td>\n",
       "      <td>67</td>\n",
       "    </tr>\n",
       "    <tr>\n",
       "      <th>287</th>\n",
       "      <td>57</td>\n",
       "      <td>67</td>\n",
       "      <td>65</td>\n",
       "      <td>57</td>\n",
       "      <td>67</td>\n",
       "    </tr>\n",
       "    <tr>\n",
       "      <th>288</th>\n",
       "      <td>67</td>\n",
       "      <td>61</td>\n",
       "      <td>68</td>\n",
       "      <td>61</td>\n",
       "      <td>68</td>\n",
       "    </tr>\n",
       "    <tr>\n",
       "      <th>289</th>\n",
       "      <td>63</td>\n",
       "      <td>58</td>\n",
       "      <td>66</td>\n",
       "      <td>58</td>\n",
       "      <td>66</td>\n",
       "    </tr>\n",
       "  </tbody>\n",
       "</table>\n",
       "<p>290 rows × 5 columns</p>\n",
       "</div>"
      ],
      "text/plain": [
       "     Vers 1  Vers 2  Vers 3  Vers  Kaxxa\n",
       "0        64      67      51    51     67\n",
       "1        59      54      63    54     63\n",
       "2        56      54      46    46     56\n",
       "3        62      67      59    59     67\n",
       "4        61      66      62    61     66\n",
       "..      ...     ...     ...   ...    ...\n",
       "285      64      66      23    23     66\n",
       "286      65      62      67    62     67\n",
       "287      57      67      65    57     67\n",
       "288      67      61      68    61     68\n",
       "289      63      58      66    58     66\n",
       "\n",
       "[290 rows x 5 columns]"
      ]
     },
     "execution_count": 31,
     "metadata": {},
     "output_type": "execute_result"
    }
   ],
   "source": [
    "df"
   ]
  },
  {
   "cell_type": "markdown",
   "id": "12b29d84",
   "metadata": {},
   "source": [
    "### Generate win-on round graph"
   ]
  },
  {
   "cell_type": "code",
   "execution_count": null,
   "id": "eb20dea5",
   "metadata": {},
   "outputs": [
    {
     "name": "stderr",
     "output_type": "stream",
     "text": [
      "  0%|          | 0/85 [00:00<?, ?it/s]"
     ]
    },
    {
     "name": "stdout",
     "output_type": "stream",
     "text": [
      "[WARNING]: Overwriting grids at c:\\Users\\Gabriel_Freeze\\Desktop\\gug-bb\\assets\\src\\..\\grids\\grids_2\r"
     ]
    },
    {
     "name": "stderr",
     "output_type": "stream",
     "text": [
      "  1%|          | 1/85 [00:00<00:33,  2.51it/s]"
     ]
    },
    {
     "name": "stdout",
     "output_type": "stream",
     "text": [
      "[WARNING]: Overwriting grids at c:\\Users\\Gabriel_Freeze\\Desktop\\gug-bb\\assets\\src\\..\\grids\\grids_2\r"
     ]
    },
    {
     "name": "stderr",
     "output_type": "stream",
     "text": [
      "  2%|▏         | 2/85 [00:00<00:28,  2.92it/s]"
     ]
    },
    {
     "name": "stdout",
     "output_type": "stream",
     "text": [
      "[WARNING]: Overwriting grids at c:\\Users\\Gabriel_Freeze\\Desktop\\gug-bb\\assets\\src\\..\\grids\\grids_2\r"
     ]
    },
    {
     "name": "stderr",
     "output_type": "stream",
     "text": [
      "  4%|▎         | 3/85 [00:01<00:27,  2.98it/s]"
     ]
    },
    {
     "name": "stdout",
     "output_type": "stream",
     "text": [
      "[WARNING]: Overwriting grids at c:\\Users\\Gabriel_Freeze\\Desktop\\gug-bb\\assets\\src\\..\\grids\\grids_2\r"
     ]
    },
    {
     "name": "stderr",
     "output_type": "stream",
     "text": [
      "  5%|▍         | 4/85 [00:01<00:25,  3.13it/s]"
     ]
    },
    {
     "name": "stdout",
     "output_type": "stream",
     "text": [
      "[WARNING]: Overwriting grids at c:\\Users\\Gabriel_Freeze\\Desktop\\gug-bb\\assets\\src\\..\\grids\\grids_2\r"
     ]
    },
    {
     "name": "stderr",
     "output_type": "stream",
     "text": [
      "  6%|▌         | 5/85 [00:01<00:24,  3.23it/s]"
     ]
    },
    {
     "name": "stdout",
     "output_type": "stream",
     "text": [
      "[WARNING]: Overwriting grids at c:\\Users\\Gabriel_Freeze\\Desktop\\gug-bb\\assets\\src\\..\\grids\\grids_2\r"
     ]
    },
    {
     "name": "stderr",
     "output_type": "stream",
     "text": [
      "  7%|▋         | 6/85 [00:01<00:23,  3.38it/s]"
     ]
    },
    {
     "name": "stdout",
     "output_type": "stream",
     "text": [
      "[WARNING]: Overwriting grids at c:\\Users\\Gabriel_Freeze\\Desktop\\gug-bb\\assets\\src\\..\\grids\\grids_2\r"
     ]
    },
    {
     "name": "stderr",
     "output_type": "stream",
     "text": [
      "  8%|▊         | 7/85 [00:02<00:23,  3.38it/s]"
     ]
    },
    {
     "name": "stdout",
     "output_type": "stream",
     "text": [
      "[WARNING]: Overwriting grids at c:\\Users\\Gabriel_Freeze\\Desktop\\gug-bb\\assets\\src\\..\\grids\\grids_2\r"
     ]
    },
    {
     "name": "stderr",
     "output_type": "stream",
     "text": [
      "  9%|▉         | 8/85 [00:02<00:22,  3.45it/s]"
     ]
    },
    {
     "name": "stdout",
     "output_type": "stream",
     "text": [
      "[WARNING]: Overwriting grids at c:\\Users\\Gabriel_Freeze\\Desktop\\gug-bb\\assets\\src\\..\\grids\\grids_2\r"
     ]
    },
    {
     "name": "stderr",
     "output_type": "stream",
     "text": [
      " 11%|█         | 9/85 [00:02<00:21,  3.54it/s]"
     ]
    },
    {
     "name": "stdout",
     "output_type": "stream",
     "text": [
      "[WARNING]: Overwriting grids at c:\\Users\\Gabriel_Freeze\\Desktop\\gug-bb\\assets\\src\\..\\grids\\grids_2\r"
     ]
    },
    {
     "name": "stderr",
     "output_type": "stream",
     "text": [
      " 12%|█▏        | 10/85 [00:02<00:20,  3.59it/s]"
     ]
    },
    {
     "name": "stdout",
     "output_type": "stream",
     "text": [
      "[WARNING]: Overwriting grids at c:\\Users\\Gabriel_Freeze\\Desktop\\gug-bb\\assets\\src\\..\\grids\\grids_2\r"
     ]
    },
    {
     "name": "stderr",
     "output_type": "stream",
     "text": [
      " 13%|█▎        | 11/85 [00:03<00:20,  3.67it/s]"
     ]
    },
    {
     "name": "stdout",
     "output_type": "stream",
     "text": [
      "[WARNING]: Overwriting grids at c:\\Users\\Gabriel_Freeze\\Desktop\\gug-bb\\assets\\src\\..\\grids\\grids_2\r"
     ]
    },
    {
     "name": "stderr",
     "output_type": "stream",
     "text": [
      " 14%|█▍        | 12/85 [00:03<00:20,  3.62it/s]"
     ]
    },
    {
     "name": "stdout",
     "output_type": "stream",
     "text": [
      "[WARNING]: Overwriting grids at c:\\Users\\Gabriel_Freeze\\Desktop\\gug-bb\\assets\\src\\..\\grids\\grids_2\r"
     ]
    },
    {
     "name": "stderr",
     "output_type": "stream",
     "text": [
      " 15%|█▌        | 13/85 [00:03<00:19,  3.62it/s]"
     ]
    },
    {
     "name": "stdout",
     "output_type": "stream",
     "text": [
      "[WARNING]: Overwriting grids at c:\\Users\\Gabriel_Freeze\\Desktop\\gug-bb\\assets\\src\\..\\grids\\grids_2\r"
     ]
    },
    {
     "name": "stderr",
     "output_type": "stream",
     "text": [
      " 16%|█▋        | 14/85 [00:04<00:20,  3.50it/s]"
     ]
    },
    {
     "name": "stdout",
     "output_type": "stream",
     "text": [
      "[WARNING]: Overwriting grids at c:\\Users\\Gabriel_Freeze\\Desktop\\gug-bb\\assets\\src\\..\\grids\\grids_2\r"
     ]
    },
    {
     "name": "stderr",
     "output_type": "stream",
     "text": [
      " 18%|█▊        | 15/85 [00:04<00:21,  3.27it/s]"
     ]
    },
    {
     "name": "stdout",
     "output_type": "stream",
     "text": [
      "[WARNING]: Overwriting grids at c:\\Users\\Gabriel_Freeze\\Desktop\\gug-bb\\assets\\src\\..\\grids\\grids_2\r"
     ]
    },
    {
     "name": "stderr",
     "output_type": "stream",
     "text": [
      " 19%|█▉        | 16/85 [00:04<00:20,  3.38it/s]"
     ]
    },
    {
     "name": "stdout",
     "output_type": "stream",
     "text": [
      "[WARNING]: Overwriting grids at c:\\Users\\Gabriel_Freeze\\Desktop\\gug-bb\\assets\\src\\..\\grids\\grids_2\r"
     ]
    },
    {
     "name": "stderr",
     "output_type": "stream",
     "text": [
      " 20%|██        | 17/85 [00:05<00:20,  3.35it/s]"
     ]
    },
    {
     "name": "stdout",
     "output_type": "stream",
     "text": [
      "[WARNING]: Overwriting grids at c:\\Users\\Gabriel_Freeze\\Desktop\\gug-bb\\assets\\src\\..\\grids\\grids_2\r"
     ]
    },
    {
     "name": "stderr",
     "output_type": "stream",
     "text": [
      " 21%|██        | 18/85 [00:05<00:19,  3.40it/s]"
     ]
    },
    {
     "name": "stdout",
     "output_type": "stream",
     "text": [
      "[WARNING]: Overwriting grids at c:\\Users\\Gabriel_Freeze\\Desktop\\gug-bb\\assets\\src\\..\\grids\\grids_2\r"
     ]
    },
    {
     "name": "stderr",
     "output_type": "stream",
     "text": [
      " 22%|██▏       | 19/85 [00:05<00:19,  3.43it/s]"
     ]
    },
    {
     "name": "stdout",
     "output_type": "stream",
     "text": [
      "[WARNING]: Overwriting grids at c:\\Users\\Gabriel_Freeze\\Desktop\\gug-bb\\assets\\src\\..\\grids\\grids_2\r"
     ]
    },
    {
     "name": "stderr",
     "output_type": "stream",
     "text": [
      " 24%|██▎       | 20/85 [00:05<00:18,  3.51it/s]"
     ]
    },
    {
     "name": "stdout",
     "output_type": "stream",
     "text": [
      "[WARNING]: Overwriting grids at c:\\Users\\Gabriel_Freeze\\Desktop\\gug-bb\\assets\\src\\..\\grids\\grids_2\r"
     ]
    },
    {
     "name": "stderr",
     "output_type": "stream",
     "text": [
      " 25%|██▍       | 21/85 [00:06<00:17,  3.57it/s]"
     ]
    },
    {
     "name": "stdout",
     "output_type": "stream",
     "text": [
      "[WARNING]: Overwriting grids at c:\\Users\\Gabriel_Freeze\\Desktop\\gug-bb\\assets\\src\\..\\grids\\grids_2\r"
     ]
    },
    {
     "name": "stderr",
     "output_type": "stream",
     "text": [
      " 26%|██▌       | 22/85 [00:06<00:17,  3.54it/s]"
     ]
    },
    {
     "name": "stdout",
     "output_type": "stream",
     "text": [
      "[WARNING]: Overwriting grids at c:\\Users\\Gabriel_Freeze\\Desktop\\gug-bb\\assets\\src\\..\\grids\\grids_2\r"
     ]
    },
    {
     "name": "stderr",
     "output_type": "stream",
     "text": [
      " 27%|██▋       | 23/85 [00:06<00:17,  3.53it/s]"
     ]
    },
    {
     "name": "stdout",
     "output_type": "stream",
     "text": [
      "[WARNING]: Overwriting grids at c:\\Users\\Gabriel_Freeze\\Desktop\\gug-bb\\assets\\src\\..\\grids\\grids_2\r"
     ]
    },
    {
     "name": "stderr",
     "output_type": "stream",
     "text": [
      " 28%|██▊       | 24/85 [00:07<00:17,  3.55it/s]"
     ]
    },
    {
     "name": "stdout",
     "output_type": "stream",
     "text": [
      "[WARNING]: Overwriting grids at c:\\Users\\Gabriel_Freeze\\Desktop\\gug-bb\\assets\\src\\..\\grids\\grids_2\r"
     ]
    },
    {
     "name": "stderr",
     "output_type": "stream",
     "text": [
      " 29%|██▉       | 25/85 [00:07<00:17,  3.51it/s]"
     ]
    },
    {
     "name": "stdout",
     "output_type": "stream",
     "text": [
      "[WARNING]: Overwriting grids at c:\\Users\\Gabriel_Freeze\\Desktop\\gug-bb\\assets\\src\\..\\grids\\grids_2\r"
     ]
    },
    {
     "name": "stderr",
     "output_type": "stream",
     "text": [
      " 31%|███       | 26/85 [00:07<00:17,  3.41it/s]"
     ]
    },
    {
     "name": "stdout",
     "output_type": "stream",
     "text": [
      "[WARNING]: Overwriting grids at c:\\Users\\Gabriel_Freeze\\Desktop\\gug-bb\\assets\\src\\..\\grids\\grids_2\r"
     ]
    },
    {
     "name": "stderr",
     "output_type": "stream",
     "text": [
      " 32%|███▏      | 27/85 [00:07<00:17,  3.23it/s]"
     ]
    },
    {
     "name": "stdout",
     "output_type": "stream",
     "text": [
      "[WARNING]: Overwriting grids at c:\\Users\\Gabriel_Freeze\\Desktop\\gug-bb\\assets\\src\\..\\grids\\grids_2\r"
     ]
    },
    {
     "name": "stderr",
     "output_type": "stream",
     "text": [
      " 33%|███▎      | 28/85 [00:08<00:17,  3.18it/s]"
     ]
    },
    {
     "name": "stdout",
     "output_type": "stream",
     "text": [
      "[WARNING]: Overwriting grids at c:\\Users\\Gabriel_Freeze\\Desktop\\gug-bb\\assets\\src\\..\\grids\\grids_2\r"
     ]
    },
    {
     "name": "stderr",
     "output_type": "stream",
     "text": [
      " 34%|███▍      | 29/85 [00:08<00:17,  3.23it/s]"
     ]
    },
    {
     "name": "stdout",
     "output_type": "stream",
     "text": [
      "[WARNING]: Overwriting grids at c:\\Users\\Gabriel_Freeze\\Desktop\\gug-bb\\assets\\src\\..\\grids\\grids_2\r"
     ]
    },
    {
     "name": "stderr",
     "output_type": "stream",
     "text": [
      " 35%|███▌      | 30/85 [00:08<00:16,  3.25it/s]"
     ]
    },
    {
     "name": "stdout",
     "output_type": "stream",
     "text": [
      "[WARNING]: Overwriting grids at c:\\Users\\Gabriel_Freeze\\Desktop\\gug-bb\\assets\\src\\..\\grids\\grids_2\r"
     ]
    },
    {
     "name": "stderr",
     "output_type": "stream",
     "text": [
      " 36%|███▋      | 31/85 [00:09<00:16,  3.36it/s]"
     ]
    },
    {
     "name": "stdout",
     "output_type": "stream",
     "text": [
      "[WARNING]: Overwriting grids at c:\\Users\\Gabriel_Freeze\\Desktop\\gug-bb\\assets\\src\\..\\grids\\grids_2\r"
     ]
    },
    {
     "name": "stderr",
     "output_type": "stream",
     "text": [
      " 38%|███▊      | 32/85 [00:09<00:15,  3.44it/s]"
     ]
    },
    {
     "name": "stdout",
     "output_type": "stream",
     "text": [
      "[WARNING]: Overwriting grids at c:\\Users\\Gabriel_Freeze\\Desktop\\gug-bb\\assets\\src\\..\\grids\\grids_2\r"
     ]
    },
    {
     "name": "stderr",
     "output_type": "stream",
     "text": [
      " 39%|███▉      | 33/85 [00:09<00:14,  3.47it/s]"
     ]
    },
    {
     "name": "stdout",
     "output_type": "stream",
     "text": [
      "[WARNING]: Overwriting grids at c:\\Users\\Gabriel_Freeze\\Desktop\\gug-bb\\assets\\src\\..\\grids\\grids_2\r"
     ]
    },
    {
     "name": "stderr",
     "output_type": "stream",
     "text": [
      " 40%|████      | 34/85 [00:09<00:14,  3.59it/s]"
     ]
    },
    {
     "name": "stdout",
     "output_type": "stream",
     "text": [
      "[WARNING]: Overwriting grids at c:\\Users\\Gabriel_Freeze\\Desktop\\gug-bb\\assets\\src\\..\\grids\\grids_2\r"
     ]
    },
    {
     "name": "stderr",
     "output_type": "stream",
     "text": [
      " 41%|████      | 35/85 [00:10<00:13,  3.61it/s]"
     ]
    },
    {
     "name": "stdout",
     "output_type": "stream",
     "text": [
      "[WARNING]: Overwriting grids at c:\\Users\\Gabriel_Freeze\\Desktop\\gug-bb\\assets\\src\\..\\grids\\grids_2\r"
     ]
    },
    {
     "name": "stderr",
     "output_type": "stream",
     "text": [
      " 42%|████▏     | 36/85 [00:10<00:13,  3.65it/s]"
     ]
    },
    {
     "name": "stdout",
     "output_type": "stream",
     "text": [
      "[WARNING]: Overwriting grids at c:\\Users\\Gabriel_Freeze\\Desktop\\gug-bb\\assets\\src\\..\\grids\\grids_2\r"
     ]
    },
    {
     "name": "stderr",
     "output_type": "stream",
     "text": [
      " 44%|████▎     | 37/85 [00:10<00:12,  3.74it/s]"
     ]
    },
    {
     "name": "stdout",
     "output_type": "stream",
     "text": [
      "[WARNING]: Overwriting grids at c:\\Users\\Gabriel_Freeze\\Desktop\\gug-bb\\assets\\src\\..\\grids\\grids_2\r"
     ]
    },
    {
     "name": "stderr",
     "output_type": "stream",
     "text": [
      " 45%|████▍     | 38/85 [00:11<00:13,  3.51it/s]"
     ]
    },
    {
     "name": "stdout",
     "output_type": "stream",
     "text": [
      "[WARNING]: Overwriting grids at c:\\Users\\Gabriel_Freeze\\Desktop\\gug-bb\\assets\\src\\..\\grids\\grids_2\r"
     ]
    },
    {
     "name": "stderr",
     "output_type": "stream",
     "text": [
      " 46%|████▌     | 39/85 [00:11<00:13,  3.53it/s]"
     ]
    },
    {
     "name": "stdout",
     "output_type": "stream",
     "text": [
      "[WARNING]: Overwriting grids at c:\\Users\\Gabriel_Freeze\\Desktop\\gug-bb\\assets\\src\\..\\grids\\grids_2\r"
     ]
    },
    {
     "name": "stderr",
     "output_type": "stream",
     "text": [
      " 47%|████▋     | 40/85 [00:11<00:12,  3.50it/s]"
     ]
    },
    {
     "name": "stdout",
     "output_type": "stream",
     "text": [
      "[WARNING]: Overwriting grids at c:\\Users\\Gabriel_Freeze\\Desktop\\gug-bb\\assets\\src\\..\\grids\\grids_2\r"
     ]
    },
    {
     "name": "stderr",
     "output_type": "stream",
     "text": [
      " 48%|████▊     | 41/85 [00:11<00:13,  3.38it/s]"
     ]
    },
    {
     "name": "stdout",
     "output_type": "stream",
     "text": [
      "[WARNING]: Overwriting grids at c:\\Users\\Gabriel_Freeze\\Desktop\\gug-bb\\assets\\src\\..\\grids\\grids_2\r"
     ]
    },
    {
     "name": "stderr",
     "output_type": "stream",
     "text": [
      " 49%|████▉     | 42/85 [00:12<00:12,  3.37it/s]"
     ]
    },
    {
     "name": "stdout",
     "output_type": "stream",
     "text": [
      "[WARNING]: Overwriting grids at c:\\Users\\Gabriel_Freeze\\Desktop\\gug-bb\\assets\\src\\..\\grids\\grids_2\r"
     ]
    },
    {
     "name": "stderr",
     "output_type": "stream",
     "text": [
      " 51%|█████     | 43/85 [00:12<00:12,  3.41it/s]"
     ]
    },
    {
     "name": "stdout",
     "output_type": "stream",
     "text": [
      "[WARNING]: Overwriting grids at c:\\Users\\Gabriel_Freeze\\Desktop\\gug-bb\\assets\\src\\..\\grids\\grids_2\r"
     ]
    },
    {
     "name": "stderr",
     "output_type": "stream",
     "text": [
      " 52%|█████▏    | 44/85 [00:12<00:11,  3.51it/s]"
     ]
    },
    {
     "name": "stdout",
     "output_type": "stream",
     "text": [
      "[WARNING]: Overwriting grids at c:\\Users\\Gabriel_Freeze\\Desktop\\gug-bb\\assets\\src\\..\\grids\\grids_2\r"
     ]
    },
    {
     "name": "stderr",
     "output_type": "stream",
     "text": [
      " 53%|█████▎    | 45/85 [00:13<00:11,  3.58it/s]"
     ]
    },
    {
     "name": "stdout",
     "output_type": "stream",
     "text": [
      "[WARNING]: Overwriting grids at c:\\Users\\Gabriel_Freeze\\Desktop\\gug-bb\\assets\\src\\..\\grids\\grids_2\r"
     ]
    },
    {
     "name": "stderr",
     "output_type": "stream",
     "text": [
      " 54%|█████▍    | 46/85 [00:13<00:10,  3.67it/s]"
     ]
    },
    {
     "name": "stdout",
     "output_type": "stream",
     "text": [
      "[WARNING]: Overwriting grids at c:\\Users\\Gabriel_Freeze\\Desktop\\gug-bb\\assets\\src\\..\\grids\\grids_2\r"
     ]
    },
    {
     "name": "stderr",
     "output_type": "stream",
     "text": [
      " 55%|█████▌    | 47/85 [00:13<00:10,  3.73it/s]"
     ]
    },
    {
     "name": "stdout",
     "output_type": "stream",
     "text": [
      "[WARNING]: Overwriting grids at c:\\Users\\Gabriel_Freeze\\Desktop\\gug-bb\\assets\\src\\..\\grids\\grids_2\r"
     ]
    },
    {
     "name": "stderr",
     "output_type": "stream",
     "text": [
      " 56%|█████▋    | 48/85 [00:13<00:09,  3.75it/s]"
     ]
    },
    {
     "name": "stdout",
     "output_type": "stream",
     "text": [
      "[WARNING]: Overwriting grids at c:\\Users\\Gabriel_Freeze\\Desktop\\gug-bb\\assets\\src\\..\\grids\\grids_2\r"
     ]
    },
    {
     "name": "stderr",
     "output_type": "stream",
     "text": [
      " 58%|█████▊    | 49/85 [00:14<00:09,  3.63it/s]"
     ]
    },
    {
     "name": "stdout",
     "output_type": "stream",
     "text": [
      "[WARNING]: Overwriting grids at c:\\Users\\Gabriel_Freeze\\Desktop\\gug-bb\\assets\\src\\..\\grids\\grids_2\r"
     ]
    },
    {
     "name": "stderr",
     "output_type": "stream",
     "text": [
      " 59%|█████▉    | 50/85 [00:14<00:09,  3.56it/s]"
     ]
    },
    {
     "name": "stdout",
     "output_type": "stream",
     "text": [
      "[WARNING]: Overwriting grids at c:\\Users\\Gabriel_Freeze\\Desktop\\gug-bb\\assets\\src\\..\\grids\\grids_2\r"
     ]
    },
    {
     "name": "stderr",
     "output_type": "stream",
     "text": [
      " 60%|██████    | 51/85 [00:14<00:09,  3.46it/s]"
     ]
    },
    {
     "name": "stdout",
     "output_type": "stream",
     "text": [
      "[WARNING]: Overwriting grids at c:\\Users\\Gabriel_Freeze\\Desktop\\gug-bb\\assets\\src\\..\\grids\\grids_2\r"
     ]
    },
    {
     "name": "stderr",
     "output_type": "stream",
     "text": [
      " 61%|██████    | 52/85 [00:15<00:09,  3.49it/s]"
     ]
    },
    {
     "name": "stdout",
     "output_type": "stream",
     "text": [
      "[WARNING]: Overwriting grids at c:\\Users\\Gabriel_Freeze\\Desktop\\gug-bb\\assets\\src\\..\\grids\\grids_2\r"
     ]
    },
    {
     "name": "stderr",
     "output_type": "stream",
     "text": [
      " 62%|██████▏   | 53/85 [00:15<00:09,  3.50it/s]"
     ]
    },
    {
     "name": "stdout",
     "output_type": "stream",
     "text": [
      "[WARNING]: Overwriting grids at c:\\Users\\Gabriel_Freeze\\Desktop\\gug-bb\\assets\\src\\..\\grids\\grids_2\r"
     ]
    },
    {
     "name": "stderr",
     "output_type": "stream",
     "text": [
      " 64%|██████▎   | 54/85 [00:15<00:09,  3.21it/s]"
     ]
    },
    {
     "name": "stdout",
     "output_type": "stream",
     "text": [
      "[WARNING]: Overwriting grids at c:\\Users\\Gabriel_Freeze\\Desktop\\gug-bb\\assets\\src\\..\\grids\\grids_2\r"
     ]
    },
    {
     "name": "stderr",
     "output_type": "stream",
     "text": [
      " 65%|██████▍   | 55/85 [00:15<00:09,  3.29it/s]"
     ]
    },
    {
     "name": "stdout",
     "output_type": "stream",
     "text": [
      "[WARNING]: Overwriting grids at c:\\Users\\Gabriel_Freeze\\Desktop\\gug-bb\\assets\\src\\..\\grids\\grids_2\r"
     ]
    },
    {
     "name": "stderr",
     "output_type": "stream",
     "text": [
      " 66%|██████▌   | 56/85 [00:16<00:09,  3.20it/s]"
     ]
    },
    {
     "name": "stdout",
     "output_type": "stream",
     "text": [
      "[WARNING]: Overwriting grids at c:\\Users\\Gabriel_Freeze\\Desktop\\gug-bb\\assets\\src\\..\\grids\\grids_2\r"
     ]
    },
    {
     "name": "stderr",
     "output_type": "stream",
     "text": [
      " 67%|██████▋   | 57/85 [00:16<00:08,  3.29it/s]"
     ]
    },
    {
     "name": "stdout",
     "output_type": "stream",
     "text": [
      "[WARNING]: Overwriting grids at c:\\Users\\Gabriel_Freeze\\Desktop\\gug-bb\\assets\\src\\..\\grids\\grids_2\r"
     ]
    },
    {
     "name": "stderr",
     "output_type": "stream",
     "text": [
      " 68%|██████▊   | 58/85 [00:16<00:07,  3.43it/s]"
     ]
    },
    {
     "name": "stdout",
     "output_type": "stream",
     "text": [
      "[WARNING]: Overwriting grids at c:\\Users\\Gabriel_Freeze\\Desktop\\gug-bb\\assets\\src\\..\\grids\\grids_2\r"
     ]
    },
    {
     "name": "stderr",
     "output_type": "stream",
     "text": [
      " 69%|██████▉   | 59/85 [00:17<00:07,  3.52it/s]"
     ]
    },
    {
     "name": "stdout",
     "output_type": "stream",
     "text": [
      "[WARNING]: Overwriting grids at c:\\Users\\Gabriel_Freeze\\Desktop\\gug-bb\\assets\\src\\..\\grids\\grids_2\r"
     ]
    },
    {
     "name": "stderr",
     "output_type": "stream",
     "text": [
      " 71%|███████   | 60/85 [00:17<00:07,  3.53it/s]"
     ]
    },
    {
     "name": "stdout",
     "output_type": "stream",
     "text": [
      "[WARNING]: Overwriting grids at c:\\Users\\Gabriel_Freeze\\Desktop\\gug-bb\\assets\\src\\..\\grids\\grids_2\r"
     ]
    },
    {
     "name": "stderr",
     "output_type": "stream",
     "text": [
      " 72%|███████▏  | 61/85 [00:17<00:06,  3.61it/s]"
     ]
    },
    {
     "name": "stdout",
     "output_type": "stream",
     "text": [
      "[WARNING]: Overwriting grids at c:\\Users\\Gabriel_Freeze\\Desktop\\gug-bb\\assets\\src\\..\\grids\\grids_2\r"
     ]
    },
    {
     "name": "stderr",
     "output_type": "stream",
     "text": [
      " 73%|███████▎  | 62/85 [00:17<00:06,  3.50it/s]"
     ]
    },
    {
     "name": "stdout",
     "output_type": "stream",
     "text": [
      "[WARNING]: Overwriting grids at c:\\Users\\Gabriel_Freeze\\Desktop\\gug-bb\\assets\\src\\..\\grids\\grids_2\r"
     ]
    },
    {
     "name": "stderr",
     "output_type": "stream",
     "text": [
      " 74%|███████▍  | 63/85 [00:18<00:06,  3.48it/s]"
     ]
    },
    {
     "name": "stdout",
     "output_type": "stream",
     "text": [
      "[WARNING]: Overwriting grids at c:\\Users\\Gabriel_Freeze\\Desktop\\gug-bb\\assets\\src\\..\\grids\\grids_2\r"
     ]
    },
    {
     "name": "stderr",
     "output_type": "stream",
     "text": [
      " 75%|███████▌  | 64/85 [00:18<00:05,  3.53it/s]"
     ]
    },
    {
     "name": "stdout",
     "output_type": "stream",
     "text": [
      "[WARNING]: Overwriting grids at c:\\Users\\Gabriel_Freeze\\Desktop\\gug-bb\\assets\\src\\..\\grids\\grids_2\r"
     ]
    },
    {
     "name": "stderr",
     "output_type": "stream",
     "text": [
      " 76%|███████▋  | 65/85 [00:18<00:05,  3.53it/s]"
     ]
    },
    {
     "name": "stdout",
     "output_type": "stream",
     "text": [
      "[WARNING]: Overwriting grids at c:\\Users\\Gabriel_Freeze\\Desktop\\gug-bb\\assets\\src\\..\\grids\\grids_2\r"
     ]
    },
    {
     "name": "stderr",
     "output_type": "stream",
     "text": [
      " 78%|███████▊  | 66/85 [00:19<00:05,  3.50it/s]"
     ]
    },
    {
     "name": "stdout",
     "output_type": "stream",
     "text": [
      "[WARNING]: Overwriting grids at c:\\Users\\Gabriel_Freeze\\Desktop\\gug-bb\\assets\\src\\..\\grids\\grids_2\r"
     ]
    },
    {
     "name": "stderr",
     "output_type": "stream",
     "text": [
      " 79%|███████▉  | 67/85 [00:19<00:05,  3.45it/s]"
     ]
    },
    {
     "name": "stdout",
     "output_type": "stream",
     "text": [
      "[WARNING]: Overwriting grids at c:\\Users\\Gabriel_Freeze\\Desktop\\gug-bb\\assets\\src\\..\\grids\\grids_2\r"
     ]
    },
    {
     "name": "stderr",
     "output_type": "stream",
     "text": [
      " 80%|████████  | 68/85 [00:19<00:05,  3.37it/s]"
     ]
    },
    {
     "name": "stdout",
     "output_type": "stream",
     "text": [
      "[WARNING]: Overwriting grids at c:\\Users\\Gabriel_Freeze\\Desktop\\gug-bb\\assets\\src\\..\\grids\\grids_2\r"
     ]
    },
    {
     "name": "stderr",
     "output_type": "stream",
     "text": [
      " 81%|████████  | 69/85 [00:20<00:04,  3.45it/s]"
     ]
    },
    {
     "name": "stdout",
     "output_type": "stream",
     "text": [
      "[WARNING]: Overwriting grids at c:\\Users\\Gabriel_Freeze\\Desktop\\gug-bb\\assets\\src\\..\\grids\\grids_2\r"
     ]
    },
    {
     "name": "stderr",
     "output_type": "stream",
     "text": [
      " 82%|████████▏ | 70/85 [00:20<00:04,  3.48it/s]"
     ]
    },
    {
     "name": "stdout",
     "output_type": "stream",
     "text": [
      "[WARNING]: Overwriting grids at c:\\Users\\Gabriel_Freeze\\Desktop\\gug-bb\\assets\\src\\..\\grids\\grids_2\r"
     ]
    },
    {
     "name": "stderr",
     "output_type": "stream",
     "text": [
      " 84%|████████▎ | 71/85 [00:20<00:03,  3.57it/s]"
     ]
    },
    {
     "name": "stdout",
     "output_type": "stream",
     "text": [
      "[WARNING]: Overwriting grids at c:\\Users\\Gabriel_Freeze\\Desktop\\gug-bb\\assets\\src\\..\\grids\\grids_2\r"
     ]
    },
    {
     "name": "stderr",
     "output_type": "stream",
     "text": [
      " 85%|████████▍ | 72/85 [00:20<00:03,  3.63it/s]"
     ]
    },
    {
     "name": "stdout",
     "output_type": "stream",
     "text": [
      "[WARNING]: Overwriting grids at c:\\Users\\Gabriel_Freeze\\Desktop\\gug-bb\\assets\\src\\..\\grids\\grids_2\r"
     ]
    },
    {
     "name": "stderr",
     "output_type": "stream",
     "text": [
      " 86%|████████▌ | 73/85 [00:21<00:03,  3.72it/s]"
     ]
    },
    {
     "name": "stdout",
     "output_type": "stream",
     "text": [
      "[WARNING]: Overwriting grids at c:\\Users\\Gabriel_Freeze\\Desktop\\gug-bb\\assets\\src\\..\\grids\\grids_2\r"
     ]
    },
    {
     "name": "stderr",
     "output_type": "stream",
     "text": [
      " 87%|████████▋ | 74/85 [00:21<00:02,  3.79it/s]"
     ]
    },
    {
     "name": "stdout",
     "output_type": "stream",
     "text": [
      "[WARNING]: Overwriting grids at c:\\Users\\Gabriel_Freeze\\Desktop\\gug-bb\\assets\\src\\..\\grids\\grids_2\r"
     ]
    },
    {
     "name": "stderr",
     "output_type": "stream",
     "text": [
      " 88%|████████▊ | 75/85 [00:21<00:02,  3.82it/s]"
     ]
    },
    {
     "name": "stdout",
     "output_type": "stream",
     "text": [
      "[WARNING]: Overwriting grids at c:\\Users\\Gabriel_Freeze\\Desktop\\gug-bb\\assets\\src\\..\\grids\\grids_2\r"
     ]
    },
    {
     "name": "stderr",
     "output_type": "stream",
     "text": [
      " 89%|████████▉ | 76/85 [00:21<00:02,  3.78it/s]"
     ]
    },
    {
     "name": "stdout",
     "output_type": "stream",
     "text": [
      "[WARNING]: Overwriting grids at c:\\Users\\Gabriel_Freeze\\Desktop\\gug-bb\\assets\\src\\..\\grids\\grids_2\r"
     ]
    },
    {
     "name": "stderr",
     "output_type": "stream",
     "text": [
      " 91%|█████████ | 77/85 [00:22<00:02,  3.64it/s]"
     ]
    },
    {
     "name": "stdout",
     "output_type": "stream",
     "text": [
      "[WARNING]: Overwriting grids at c:\\Users\\Gabriel_Freeze\\Desktop\\gug-bb\\assets\\src\\..\\grids\\grids_2\r"
     ]
    },
    {
     "name": "stderr",
     "output_type": "stream",
     "text": [
      " 92%|█████████▏| 78/85 [00:22<00:01,  3.54it/s]"
     ]
    },
    {
     "name": "stdout",
     "output_type": "stream",
     "text": [
      "[WARNING]: Overwriting grids at c:\\Users\\Gabriel_Freeze\\Desktop\\gug-bb\\assets\\src\\..\\grids\\grids_2\r"
     ]
    },
    {
     "name": "stderr",
     "output_type": "stream",
     "text": [
      " 93%|█████████▎| 79/85 [00:22<00:01,  3.56it/s]"
     ]
    },
    {
     "name": "stdout",
     "output_type": "stream",
     "text": [
      "[WARNING]: Overwriting grids at c:\\Users\\Gabriel_Freeze\\Desktop\\gug-bb\\assets\\src\\..\\grids\\grids_2\r"
     ]
    },
    {
     "name": "stderr",
     "output_type": "stream",
     "text": [
      " 94%|█████████▍| 80/85 [00:23<00:01,  3.55it/s]"
     ]
    },
    {
     "name": "stdout",
     "output_type": "stream",
     "text": [
      "[WARNING]: Overwriting grids at c:\\Users\\Gabriel_Freeze\\Desktop\\gug-bb\\assets\\src\\..\\grids\\grids_2\r"
     ]
    },
    {
     "name": "stderr",
     "output_type": "stream",
     "text": [
      " 95%|█████████▌| 81/85 [00:23<00:01,  3.56it/s]"
     ]
    },
    {
     "name": "stdout",
     "output_type": "stream",
     "text": [
      "[WARNING]: Overwriting grids at c:\\Users\\Gabriel_Freeze\\Desktop\\gug-bb\\assets\\src\\..\\grids\\grids_2\r"
     ]
    },
    {
     "name": "stderr",
     "output_type": "stream",
     "text": [
      " 96%|█████████▋| 82/85 [00:23<00:00,  3.52it/s]"
     ]
    },
    {
     "name": "stdout",
     "output_type": "stream",
     "text": [
      "[WARNING]: Overwriting grids at c:\\Users\\Gabriel_Freeze\\Desktop\\gug-bb\\assets\\src\\..\\grids\\grids_2\r"
     ]
    },
    {
     "name": "stderr",
     "output_type": "stream",
     "text": [
      " 98%|█████████▊| 83/85 [00:23<00:00,  3.57it/s]"
     ]
    },
    {
     "name": "stdout",
     "output_type": "stream",
     "text": [
      "[WARNING]: Overwriting grids at c:\\Users\\Gabriel_Freeze\\Desktop\\gug-bb\\assets\\src\\..\\grids\\grids_2\r"
     ]
    },
    {
     "name": "stderr",
     "output_type": "stream",
     "text": [
      " 99%|█████████▉| 84/85 [00:24<00:00,  3.52it/s]"
     ]
    },
    {
     "name": "stdout",
     "output_type": "stream",
     "text": [
      "[WARNING]: Overwriting grids at c:\\Users\\Gabriel_Freeze\\Desktop\\gug-bb\\assets\\src\\..\\grids\\grids_2\r"
     ]
    },
    {
     "name": "stderr",
     "output_type": "stream",
     "text": [
      "100%|██████████| 85/85 [00:24<00:00,  3.48it/s]"
     ]
    },
    {
     "name": "stdout",
     "output_type": "stream",
     "text": [
      "[WARNING]: Overwriting grids at c:\\Users\\Gabriel_Freeze\\Desktop\\gug-bb\\assets\\src\\..\\grids\\grids_2\r"
     ]
    },
    {
     "name": "stderr",
     "output_type": "stream",
     "text": [
      "\n"
     ]
    }
   ],
   "source": [
    "from tqdm import tqdm\n",
    "data = []\n",
    "\n",
    "GRAN = 5\n",
    "\n",
    "for i in tqdm(range(GRID_H*GRID_W, 100)):\n",
    "\n",
    "    df = prepare_df(\n",
    "        round_n=2,\n",
    "        n_grids=100,\n",
    "        n_songs=i,\n",
    "        overwrite=True\n",
    "    )\n",
    "    for _ in range(GRAN-1):\n",
    "        df += prepare_df(\n",
    "            round_n=2,\n",
    "            n_grids=100,\n",
    "            n_songs=i,\n",
    "            overwrite=True\n",
    "        )\n",
    "    df /= GRAN\n",
    "\n",
    "    data.append(\n",
    "        [i,df['Vers' ].min().item(),df['Kaxxa'].min().item()]\n",
    "    )"
   ]
  },
  {
   "cell_type": "code",
   "execution_count": null,
   "id": "a2c52bba",
   "metadata": {},
   "outputs": [
    {
     "ename": "AttributeError",
     "evalue": "Line2D.set() got an unexpected keyword argument 'labels'",
     "output_type": "error",
     "traceback": [
      "\u001b[1;31m---------------------------------------------------------------------------\u001b[0m",
      "\u001b[1;31mAttributeError\u001b[0m                            Traceback (most recent call last)",
      "Cell \u001b[1;32mIn[51], line 13\u001b[0m\n\u001b[0;32m     11\u001b[0m plt\u001b[38;5;241m.\u001b[39mylabel(\u001b[38;5;124m\"\u001b[39m\u001b[38;5;124mWinning Round\u001b[39m\u001b[38;5;124m\"\u001b[39m)\n\u001b[0;32m     12\u001b[0m plt\u001b[38;5;241m.\u001b[39mxlabel(\u001b[38;5;124m\"\u001b[39m\u001b[38;5;124mNumber of Songs\u001b[39m\u001b[38;5;124m\"\u001b[39m)\n\u001b[1;32m---> 13\u001b[0m \u001b[43msns\u001b[49m\u001b[38;5;241;43m.\u001b[39;49m\u001b[43mlineplot\u001b[49m\u001b[43m(\u001b[49m\u001b[43mdata\u001b[49m\u001b[38;5;241;43m=\u001b[39;49m\u001b[43mdata\u001b[49m\u001b[43m,\u001b[49m\u001b[43mlabels\u001b[49m\u001b[38;5;241;43m=\u001b[39;49m\u001b[43m[\u001b[49m\u001b[38;5;124;43m\"\u001b[39;49m\u001b[38;5;124;43mVers\u001b[39;49m\u001b[38;5;124;43m\"\u001b[39;49m\u001b[43m,\u001b[49m\u001b[38;5;124;43m\"\u001b[39;49m\u001b[38;5;124;43mKaxxa\u001b[39;49m\u001b[38;5;124;43m\"\u001b[39;49m\u001b[43m]\u001b[49m\u001b[43m)\u001b[49m\n\u001b[0;32m     14\u001b[0m plt\u001b[38;5;241m.\u001b[39mlegend()\n\u001b[0;32m     15\u001b[0m plt\u001b[38;5;241m.\u001b[39mshow()\n",
      "File \u001b[1;32mc:\\Users\\Gabriel_Freeze\\anaconda3\\envs\\gug-bb\\lib\\site-packages\\seaborn\\relational.py:515\u001b[0m, in \u001b[0;36mlineplot\u001b[1;34m(data, x, y, hue, size, style, units, weights, palette, hue_order, hue_norm, sizes, size_order, size_norm, dashes, markers, style_order, estimator, errorbar, n_boot, seed, orient, sort, err_style, err_kws, legend, ci, ax, **kwargs)\u001b[0m\n\u001b[0;32m    512\u001b[0m color \u001b[38;5;241m=\u001b[39m kwargs\u001b[38;5;241m.\u001b[39mpop(\u001b[38;5;124m\"\u001b[39m\u001b[38;5;124mcolor\u001b[39m\u001b[38;5;124m\"\u001b[39m, kwargs\u001b[38;5;241m.\u001b[39mpop(\u001b[38;5;124m\"\u001b[39m\u001b[38;5;124mc\u001b[39m\u001b[38;5;124m\"\u001b[39m, \u001b[38;5;28;01mNone\u001b[39;00m))\n\u001b[0;32m    513\u001b[0m kwargs[\u001b[38;5;124m\"\u001b[39m\u001b[38;5;124mcolor\u001b[39m\u001b[38;5;124m\"\u001b[39m] \u001b[38;5;241m=\u001b[39m _default_color(ax\u001b[38;5;241m.\u001b[39mplot, hue, color, kwargs)\n\u001b[1;32m--> 515\u001b[0m \u001b[43mp\u001b[49m\u001b[38;5;241;43m.\u001b[39;49m\u001b[43mplot\u001b[49m\u001b[43m(\u001b[49m\u001b[43max\u001b[49m\u001b[43m,\u001b[49m\u001b[43m \u001b[49m\u001b[43mkwargs\u001b[49m\u001b[43m)\u001b[49m\n\u001b[0;32m    516\u001b[0m \u001b[38;5;28;01mreturn\u001b[39;00m ax\n",
      "File \u001b[1;32mc:\\Users\\Gabriel_Freeze\\anaconda3\\envs\\gug-bb\\lib\\site-packages\\seaborn\\relational.py:316\u001b[0m, in \u001b[0;36m_LinePlotter.plot\u001b[1;34m(self, ax, kws)\u001b[0m\n\u001b[0;32m    314\u001b[0m         lines\u001b[38;5;241m.\u001b[39mextend(ax\u001b[38;5;241m.\u001b[39mplot(unit_data[\u001b[38;5;124m\"\u001b[39m\u001b[38;5;124mx\u001b[39m\u001b[38;5;124m\"\u001b[39m], unit_data[\u001b[38;5;124m\"\u001b[39m\u001b[38;5;124my\u001b[39m\u001b[38;5;124m\"\u001b[39m], \u001b[38;5;241m*\u001b[39m\u001b[38;5;241m*\u001b[39mkws))\n\u001b[0;32m    315\u001b[0m \u001b[38;5;28;01melse\u001b[39;00m:\n\u001b[1;32m--> 316\u001b[0m     lines \u001b[38;5;241m=\u001b[39m ax\u001b[38;5;241m.\u001b[39mplot(sub_data[\u001b[38;5;124m\"\u001b[39m\u001b[38;5;124mx\u001b[39m\u001b[38;5;124m\"\u001b[39m], sub_data[\u001b[38;5;124m\"\u001b[39m\u001b[38;5;124my\u001b[39m\u001b[38;5;124m\"\u001b[39m], \u001b[38;5;241m*\u001b[39m\u001b[38;5;241m*\u001b[39mkws)\n\u001b[0;32m    318\u001b[0m \u001b[38;5;28;01mfor\u001b[39;00m line \u001b[38;5;129;01min\u001b[39;00m lines:\n\u001b[0;32m    320\u001b[0m     \u001b[38;5;28;01mif\u001b[39;00m \u001b[38;5;124m\"\u001b[39m\u001b[38;5;124mhue\u001b[39m\u001b[38;5;124m\"\u001b[39m \u001b[38;5;129;01min\u001b[39;00m sub_vars:\n",
      "File \u001b[1;32mc:\\Users\\Gabriel_Freeze\\anaconda3\\envs\\gug-bb\\lib\\site-packages\\matplotlib\\axes\\_axes.py:1777\u001b[0m, in \u001b[0;36mAxes.plot\u001b[1;34m(self, scalex, scaley, data, *args, **kwargs)\u001b[0m\n\u001b[0;32m   1534\u001b[0m \u001b[38;5;250m\u001b[39m\u001b[38;5;124;03m\"\"\"\u001b[39;00m\n\u001b[0;32m   1535\u001b[0m \u001b[38;5;124;03mPlot y versus x as lines and/or markers.\u001b[39;00m\n\u001b[0;32m   1536\u001b[0m \n\u001b[1;32m   (...)\u001b[0m\n\u001b[0;32m   1774\u001b[0m \u001b[38;5;124;03m(``'green'``) or hex strings (``'#008000'``).\u001b[39;00m\n\u001b[0;32m   1775\u001b[0m \u001b[38;5;124;03m\"\"\"\u001b[39;00m\n\u001b[0;32m   1776\u001b[0m kwargs \u001b[38;5;241m=\u001b[39m cbook\u001b[38;5;241m.\u001b[39mnormalize_kwargs(kwargs, mlines\u001b[38;5;241m.\u001b[39mLine2D)\n\u001b[1;32m-> 1777\u001b[0m lines \u001b[38;5;241m=\u001b[39m [\u001b[38;5;241m*\u001b[39m\u001b[38;5;28mself\u001b[39m\u001b[38;5;241m.\u001b[39m_get_lines(\u001b[38;5;28mself\u001b[39m, \u001b[38;5;241m*\u001b[39margs, data\u001b[38;5;241m=\u001b[39mdata, \u001b[38;5;241m*\u001b[39m\u001b[38;5;241m*\u001b[39mkwargs)]\n\u001b[0;32m   1778\u001b[0m \u001b[38;5;28;01mfor\u001b[39;00m line \u001b[38;5;129;01min\u001b[39;00m lines:\n\u001b[0;32m   1779\u001b[0m     \u001b[38;5;28mself\u001b[39m\u001b[38;5;241m.\u001b[39madd_line(line)\n",
      "File \u001b[1;32mc:\\Users\\Gabriel_Freeze\\anaconda3\\envs\\gug-bb\\lib\\site-packages\\matplotlib\\axes\\_base.py:297\u001b[0m, in \u001b[0;36m_process_plot_var_args.__call__\u001b[1;34m(self, axes, data, return_kwargs, *args, **kwargs)\u001b[0m\n\u001b[0;32m    295\u001b[0m     this \u001b[38;5;241m+\u001b[39m\u001b[38;5;241m=\u001b[39m args[\u001b[38;5;241m0\u001b[39m],\n\u001b[0;32m    296\u001b[0m     args \u001b[38;5;241m=\u001b[39m args[\u001b[38;5;241m1\u001b[39m:]\n\u001b[1;32m--> 297\u001b[0m \u001b[38;5;28;01myield from\u001b[39;00m \u001b[38;5;28;43mself\u001b[39;49m\u001b[38;5;241;43m.\u001b[39;49m\u001b[43m_plot_args\u001b[49m\u001b[43m(\u001b[49m\n\u001b[0;32m    298\u001b[0m \u001b[43m    \u001b[49m\u001b[43maxes\u001b[49m\u001b[43m,\u001b[49m\u001b[43m \u001b[49m\u001b[43mthis\u001b[49m\u001b[43m,\u001b[49m\u001b[43m \u001b[49m\u001b[43mkwargs\u001b[49m\u001b[43m,\u001b[49m\u001b[43m \u001b[49m\u001b[43mambiguous_fmt_datakey\u001b[49m\u001b[38;5;241;43m=\u001b[39;49m\u001b[43mambiguous_fmt_datakey\u001b[49m\u001b[43m,\u001b[49m\n\u001b[0;32m    299\u001b[0m \u001b[43m    \u001b[49m\u001b[43mreturn_kwargs\u001b[49m\u001b[38;5;241;43m=\u001b[39;49m\u001b[43mreturn_kwargs\u001b[49m\n\u001b[0;32m    300\u001b[0m \u001b[43m\u001b[49m\u001b[43m)\u001b[49m\n",
      "File \u001b[1;32mc:\\Users\\Gabriel_Freeze\\anaconda3\\envs\\gug-bb\\lib\\site-packages\\matplotlib\\axes\\_base.py:546\u001b[0m, in \u001b[0;36m_process_plot_var_args._plot_args\u001b[1;34m(self, axes, tup, kwargs, return_kwargs, ambiguous_fmt_datakey)\u001b[0m\n\u001b[0;32m    544\u001b[0m     \u001b[38;5;28;01mreturn\u001b[39;00m \u001b[38;5;28mlist\u001b[39m(result)\n\u001b[0;32m    545\u001b[0m \u001b[38;5;28;01melse\u001b[39;00m:\n\u001b[1;32m--> 546\u001b[0m     \u001b[38;5;28;01mreturn\u001b[39;00m [l[\u001b[38;5;241m0\u001b[39m] \u001b[38;5;28;01mfor\u001b[39;00m l \u001b[38;5;129;01min\u001b[39;00m result]\n",
      "File \u001b[1;32mc:\\Users\\Gabriel_Freeze\\anaconda3\\envs\\gug-bb\\lib\\site-packages\\matplotlib\\axes\\_base.py:546\u001b[0m, in \u001b[0;36m<listcomp>\u001b[1;34m(.0)\u001b[0m\n\u001b[0;32m    544\u001b[0m     \u001b[38;5;28;01mreturn\u001b[39;00m \u001b[38;5;28mlist\u001b[39m(result)\n\u001b[0;32m    545\u001b[0m \u001b[38;5;28;01melse\u001b[39;00m:\n\u001b[1;32m--> 546\u001b[0m     \u001b[38;5;28;01mreturn\u001b[39;00m [l[\u001b[38;5;241m0\u001b[39m] \u001b[38;5;28;01mfor\u001b[39;00m l \u001b[38;5;129;01min\u001b[39;00m result]\n",
      "File \u001b[1;32mc:\\Users\\Gabriel_Freeze\\anaconda3\\envs\\gug-bb\\lib\\site-packages\\matplotlib\\axes\\_base.py:539\u001b[0m, in \u001b[0;36m<genexpr>\u001b[1;34m(.0)\u001b[0m\n\u001b[0;32m    534\u001b[0m \u001b[38;5;28;01melse\u001b[39;00m:\n\u001b[0;32m    535\u001b[0m     \u001b[38;5;28;01mraise\u001b[39;00m \u001b[38;5;167;01mValueError\u001b[39;00m(\n\u001b[0;32m    536\u001b[0m         \u001b[38;5;124mf\u001b[39m\u001b[38;5;124m\"\u001b[39m\u001b[38;5;124mlabel must be scalar or have the same length as the input \u001b[39m\u001b[38;5;124m\"\u001b[39m\n\u001b[0;32m    537\u001b[0m         \u001b[38;5;124mf\u001b[39m\u001b[38;5;124m\"\u001b[39m\u001b[38;5;124mdata, but found \u001b[39m\u001b[38;5;132;01m{\u001b[39;00m\u001b[38;5;28mlen\u001b[39m(label)\u001b[38;5;132;01m}\u001b[39;00m\u001b[38;5;124m for \u001b[39m\u001b[38;5;132;01m{\u001b[39;00mn_datasets\u001b[38;5;132;01m}\u001b[39;00m\u001b[38;5;124m datasets.\u001b[39m\u001b[38;5;124m\"\u001b[39m)\n\u001b[1;32m--> 539\u001b[0m result \u001b[38;5;241m=\u001b[39m (\u001b[43mmake_artist\u001b[49m\u001b[43m(\u001b[49m\u001b[43maxes\u001b[49m\u001b[43m,\u001b[49m\u001b[43m \u001b[49m\u001b[43mx\u001b[49m\u001b[43m[\u001b[49m\u001b[43m:\u001b[49m\u001b[43m,\u001b[49m\u001b[43m \u001b[49m\u001b[43mj\u001b[49m\u001b[43m \u001b[49m\u001b[38;5;241;43m%\u001b[39;49m\u001b[43m \u001b[49m\u001b[43mncx\u001b[49m\u001b[43m]\u001b[49m\u001b[43m,\u001b[49m\u001b[43m \u001b[49m\u001b[43my\u001b[49m\u001b[43m[\u001b[49m\u001b[43m:\u001b[49m\u001b[43m,\u001b[49m\u001b[43m \u001b[49m\u001b[43mj\u001b[49m\u001b[43m \u001b[49m\u001b[38;5;241;43m%\u001b[39;49m\u001b[43m \u001b[49m\u001b[43mncy\u001b[49m\u001b[43m]\u001b[49m\u001b[43m,\u001b[49m\u001b[43m \u001b[49m\u001b[43mkw\u001b[49m\u001b[43m,\u001b[49m\n\u001b[0;32m    540\u001b[0m \u001b[43m                      \u001b[49m\u001b[43m{\u001b[49m\u001b[38;5;241;43m*\u001b[39;49m\u001b[38;5;241;43m*\u001b[39;49m\u001b[43mkwargs\u001b[49m\u001b[43m,\u001b[49m\u001b[43m \u001b[49m\u001b[38;5;124;43m'\u001b[39;49m\u001b[38;5;124;43mlabel\u001b[39;49m\u001b[38;5;124;43m'\u001b[39;49m\u001b[43m:\u001b[49m\u001b[43m \u001b[49m\u001b[43mlabel\u001b[49m\u001b[43m}\u001b[49m\u001b[43m)\u001b[49m\n\u001b[0;32m    541\u001b[0m           \u001b[38;5;28;01mfor\u001b[39;00m j, label \u001b[38;5;129;01min\u001b[39;00m \u001b[38;5;28menumerate\u001b[39m(labels))\n\u001b[0;32m    543\u001b[0m \u001b[38;5;28;01mif\u001b[39;00m return_kwargs:\n\u001b[0;32m    544\u001b[0m     \u001b[38;5;28;01mreturn\u001b[39;00m \u001b[38;5;28mlist\u001b[39m(result)\n",
      "File \u001b[1;32mc:\\Users\\Gabriel_Freeze\\anaconda3\\envs\\gug-bb\\lib\\site-packages\\matplotlib\\axes\\_base.py:338\u001b[0m, in \u001b[0;36m_process_plot_var_args._make_line\u001b[1;34m(self, axes, x, y, kw, kwargs)\u001b[0m\n\u001b[0;32m    336\u001b[0m kw \u001b[38;5;241m=\u001b[39m {\u001b[38;5;241m*\u001b[39m\u001b[38;5;241m*\u001b[39mkw, \u001b[38;5;241m*\u001b[39m\u001b[38;5;241m*\u001b[39mkwargs}  \u001b[38;5;66;03m# Don't modify the original kw.\u001b[39;00m\n\u001b[0;32m    337\u001b[0m \u001b[38;5;28mself\u001b[39m\u001b[38;5;241m.\u001b[39m_setdefaults(\u001b[38;5;28mself\u001b[39m\u001b[38;5;241m.\u001b[39m_getdefaults(kw), kw)\n\u001b[1;32m--> 338\u001b[0m seg \u001b[38;5;241m=\u001b[39m mlines\u001b[38;5;241m.\u001b[39mLine2D(x, y, \u001b[38;5;241m*\u001b[39m\u001b[38;5;241m*\u001b[39mkw)\n\u001b[0;32m    339\u001b[0m \u001b[38;5;28;01mreturn\u001b[39;00m seg, kw\n",
      "File \u001b[1;32mc:\\Users\\Gabriel_Freeze\\anaconda3\\envs\\gug-bb\\lib\\site-packages\\matplotlib\\lines.py:407\u001b[0m, in \u001b[0;36mLine2D.__init__\u001b[1;34m(self, xdata, ydata, linewidth, linestyle, color, gapcolor, marker, markersize, markeredgewidth, markeredgecolor, markerfacecolor, markerfacecoloralt, fillstyle, antialiased, dash_capstyle, solid_capstyle, dash_joinstyle, solid_joinstyle, pickradius, drawstyle, markevery, **kwargs)\u001b[0m\n\u001b[0;32m    403\u001b[0m \u001b[38;5;28mself\u001b[39m\u001b[38;5;241m.\u001b[39mset_markeredgewidth(markeredgewidth)\n\u001b[0;32m    405\u001b[0m \u001b[38;5;66;03m# update kwargs before updating data to give the caller a\u001b[39;00m\n\u001b[0;32m    406\u001b[0m \u001b[38;5;66;03m# chance to init axes (and hence unit support)\u001b[39;00m\n\u001b[1;32m--> 407\u001b[0m \u001b[38;5;28;43mself\u001b[39;49m\u001b[38;5;241;43m.\u001b[39;49m\u001b[43m_internal_update\u001b[49m\u001b[43m(\u001b[49m\u001b[43mkwargs\u001b[49m\u001b[43m)\u001b[49m\n\u001b[0;32m    408\u001b[0m \u001b[38;5;28mself\u001b[39m\u001b[38;5;241m.\u001b[39mpickradius \u001b[38;5;241m=\u001b[39m pickradius\n\u001b[0;32m    409\u001b[0m \u001b[38;5;28mself\u001b[39m\u001b[38;5;241m.\u001b[39mind_offset \u001b[38;5;241m=\u001b[39m \u001b[38;5;241m0\u001b[39m\n",
      "File \u001b[1;32mc:\\Users\\Gabriel_Freeze\\anaconda3\\envs\\gug-bb\\lib\\site-packages\\matplotlib\\artist.py:1233\u001b[0m, in \u001b[0;36mArtist._internal_update\u001b[1;34m(self, kwargs)\u001b[0m\n\u001b[0;32m   1226\u001b[0m \u001b[38;5;28;01mdef\u001b[39;00m\u001b[38;5;250m \u001b[39m\u001b[38;5;21m_internal_update\u001b[39m(\u001b[38;5;28mself\u001b[39m, kwargs):\n\u001b[0;32m   1227\u001b[0m \u001b[38;5;250m    \u001b[39m\u001b[38;5;124;03m\"\"\"\u001b[39;00m\n\u001b[0;32m   1228\u001b[0m \u001b[38;5;124;03m    Update artist properties without prenormalizing them, but generating\u001b[39;00m\n\u001b[0;32m   1229\u001b[0m \u001b[38;5;124;03m    errors as if calling `set`.\u001b[39;00m\n\u001b[0;32m   1230\u001b[0m \n\u001b[0;32m   1231\u001b[0m \u001b[38;5;124;03m    The lack of prenormalization is to maintain backcompatibility.\u001b[39;00m\n\u001b[0;32m   1232\u001b[0m \u001b[38;5;124;03m    \"\"\"\u001b[39;00m\n\u001b[1;32m-> 1233\u001b[0m     \u001b[38;5;28;01mreturn\u001b[39;00m \u001b[38;5;28;43mself\u001b[39;49m\u001b[38;5;241;43m.\u001b[39;49m\u001b[43m_update_props\u001b[49m\u001b[43m(\u001b[49m\n\u001b[0;32m   1234\u001b[0m \u001b[43m        \u001b[49m\u001b[43mkwargs\u001b[49m\u001b[43m,\u001b[49m\u001b[43m \u001b[49m\u001b[38;5;124;43m\"\u001b[39;49m\u001b[38;5;132;43;01m{cls.__name__}\u001b[39;49;00m\u001b[38;5;124;43m.set() got an unexpected keyword argument \u001b[39;49m\u001b[38;5;124;43m\"\u001b[39;49m\n\u001b[0;32m   1235\u001b[0m \u001b[43m        \u001b[49m\u001b[38;5;124;43m\"\u001b[39;49m\u001b[38;5;132;43;01m{prop_name!r}\u001b[39;49;00m\u001b[38;5;124;43m\"\u001b[39;49m\u001b[43m)\u001b[49m\n",
      "File \u001b[1;32mc:\\Users\\Gabriel_Freeze\\anaconda3\\envs\\gug-bb\\lib\\site-packages\\matplotlib\\artist.py:1206\u001b[0m, in \u001b[0;36mArtist._update_props\u001b[1;34m(self, props, errfmt)\u001b[0m\n\u001b[0;32m   1204\u001b[0m             func \u001b[38;5;241m=\u001b[39m \u001b[38;5;28mgetattr\u001b[39m(\u001b[38;5;28mself\u001b[39m, \u001b[38;5;124mf\u001b[39m\u001b[38;5;124m\"\u001b[39m\u001b[38;5;124mset_\u001b[39m\u001b[38;5;132;01m{\u001b[39;00mk\u001b[38;5;132;01m}\u001b[39;00m\u001b[38;5;124m\"\u001b[39m, \u001b[38;5;28;01mNone\u001b[39;00m)\n\u001b[0;32m   1205\u001b[0m             \u001b[38;5;28;01mif\u001b[39;00m \u001b[38;5;129;01mnot\u001b[39;00m \u001b[38;5;28mcallable\u001b[39m(func):\n\u001b[1;32m-> 1206\u001b[0m                 \u001b[38;5;28;01mraise\u001b[39;00m \u001b[38;5;167;01mAttributeError\u001b[39;00m(\n\u001b[0;32m   1207\u001b[0m                     errfmt\u001b[38;5;241m.\u001b[39mformat(\u001b[38;5;28mcls\u001b[39m\u001b[38;5;241m=\u001b[39m\u001b[38;5;28mtype\u001b[39m(\u001b[38;5;28mself\u001b[39m), prop_name\u001b[38;5;241m=\u001b[39mk),\n\u001b[0;32m   1208\u001b[0m                     name\u001b[38;5;241m=\u001b[39mk)\n\u001b[0;32m   1209\u001b[0m             ret\u001b[38;5;241m.\u001b[39mappend(func(v))\n\u001b[0;32m   1210\u001b[0m \u001b[38;5;28;01mif\u001b[39;00m ret:\n",
      "\u001b[1;31mAttributeError\u001b[0m: Line2D.set() got an unexpected keyword argument 'labels'"
     ]
    },
    {
     "data": {
      "image/png": "[encoded data removed]",
      "text/plain": [
       "<Figure size 640x480 with 1 Axes>"
      ]
     },
     "metadata": {},
     "output_type": "display_data"
    }
   ],
   "source": [
    "x = [p[0] for p in data]\n",
    "y  = [[p[1] for p in data],[p[2] for p in data]]\n",
    "\n",
    "data2 = {}\n",
    "data2[x] = [p[0] for p in data]\n",
    "data2[y] = [[p[1] for p in data],[p[2] for p in data]]\n",
    "\n",
    "sns.set_theme(\"paper\")\n",
    "\n",
    "\n",
    "# sns.set_theme()\n",
    "\n",
    "plt.yticks(np.arange(0,300,10),rotation=0,size=10)\n",
    "plt.xticks(np.arange(0,110,5),rotation=0,size=10)\n",
    "plt.ylabel(\"Winning Round\")\n",
    "plt.xlabel(\"Number of Songs\")\n",
    "sns.lineplot(data=data,labels=[\"Vers\",\"Kaxxa\"])\n",
    "plt.legend()\n",
    "plt.show()"
   ]
  }
 ],
 "metadata": {
  "kernelspec": {
   "display_name": "gug-bb",
   "language": "python",
   "name": "python3"
  },
  "language_info": {
   "codemirror_mode": {
    "name": "ipython",
    "version": 3
   },
   "file_extension": ".py",
   "mimetype": "text/x-python",
   "name": "python",
   "nbconvert_exporter": "python",
   "pygments_lexer": "ipython3",
   "version": "3.10.16"
  }
 },
 "nbformat": 4,
 "nbformat_minor": 5
}
